{
 "cells": [
  {
   "cell_type": "code",
   "execution_count": 1,
   "metadata": {
    "execution": {
     "iopub.execute_input": "2022-10-20T20:24:03.493973Z",
     "iopub.status.busy": "2022-10-20T20:24:03.493124Z",
     "iopub.status.idle": "2022-10-20T20:24:04.894997Z",
     "shell.execute_reply": "2022-10-20T20:24:04.894300Z"
    },
    "ExecuteTime": {
     "end_time": "2023-09-25T10:16:47.956237272Z",
     "start_time": "2023-09-25T10:16:47.551769140Z"
    }
   },
   "outputs": [],
   "source": [
    "%matplotlib inline\n",
    "import numpy as np\n",
    "import matplotlib.pyplot as plt\n",
    "\n",
    "%load_ext autoreload\n",
    "%autoreload 2\n",
    "\n",
    "# Load test module for sanity check\n",
    "from test_utils import test"
   ]
  },
  {
   "cell_type": "markdown",
   "metadata": {},
   "source": [
    "Data Generation\n",
    "==="
   ]
  },
  {
   "cell_type": "code",
   "execution_count": 2,
   "metadata": {
    "execution": {
     "iopub.execute_input": "2022-10-20T20:24:04.898188Z",
     "iopub.status.busy": "2022-10-20T20:24:04.897973Z",
     "iopub.status.idle": "2022-10-20T20:24:04.917947Z",
     "shell.execute_reply": "2022-10-20T20:24:04.917312Z"
    },
    "ExecuteTime": {
     "end_time": "2023-09-25T10:16:49.241503976Z",
     "start_time": "2023-09-25T10:16:48.787935236Z"
    }
   },
   "outputs": [
    {
     "name": "stdout",
     "output_type": "stream",
     "text": [
      "[[0.77132064 0.02075195]\n",
      " [0.63364823 0.74880388]\n",
      " [0.49850701 0.22479665]\n",
      " [0.19806286 0.76053071]] \n",
      "\n",
      " [[0.16911084 0.08833981]\n",
      " [0.68535982 0.95339335]\n",
      " [0.00394827 0.51219226]\n",
      " [0.81262096 0.61252607]\n",
      " [0.72175532 0.29187607]]\n"
     ]
    }
   ],
   "source": [
    "np.random.seed(10)\n",
    "P, Q = (np.random.rand(i, 2) for i in (4, 5))\n",
    "P_big, Q_big = (np.random.rand(i, 80) for i in (100, 120))\n",
    "\n",
    "print(P, \"\\n\\n\", Q)"
   ]
  },
  {
   "cell_type": "markdown",
   "metadata": {},
   "source": [
    "Solution\n",
    "==="
   ]
  },
  {
   "cell_type": "code",
   "execution_count": 79,
   "metadata": {
    "execution": {
     "iopub.execute_input": "2022-10-20T20:24:04.920919Z",
     "iopub.status.busy": "2022-10-20T20:24:04.920725Z",
     "iopub.status.idle": "2022-10-20T20:24:04.939743Z",
     "shell.execute_reply": "2022-10-20T20:24:04.939032Z"
    },
    "ExecuteTime": {
     "end_time": "2023-09-25T11:10:34.306596650Z",
     "start_time": "2023-09-25T11:10:34.213297933Z"
    }
   },
   "outputs": [
    {
     "name": "stdout",
     "output_type": "stream",
     "text": [
      "✅ Your `naive` passed 1 tests.\n"
     ]
    }
   ],
   "source": [
    "def naive(P, Q):\n",
    "    \"\"\"\n",
    "    A naive solution for finding pairvise distances between poins in P and Q\n",
    "    \n",
    "    Args:\n",
    "        P: numpy array of shape=(p, 2)\n",
    "        Q: numpy array of shape=(q, 2)\n",
    "    Returns:\n",
    "        D: numpy array of shape=(p*q,)\n",
    "        \n",
    "    >>> naive(np.array([[0, 1]]), np.array([[2, 3], [4, 5]]))\n",
    "    array([[2.82842712, 5.65685425]])\n",
    "    \"\"\"\n",
    "    # ***************************************************\n",
    "    # INSERT YOUR CODE HERE\n",
    "    # Calculate the sum of squares for each matrix\n",
    "    \n",
    "    # TODO Here it only works because the (1,2) matrix can be broadcast easily, but otherwise it doesn't work\n",
    "    \n",
    "    q_height = Q.shape[0]\n",
    "    result = np.zeros(P.shape[0] * q_height)\n",
    "    for i, x in enumerate(P):\n",
    "        for j, y in enumerate(Q):\n",
    "            result[i*q_height+j] = np.sqrt(np.sum((x - y)**2))\n",
    "\n",
    "    return result[np.newaxis,:]\n",
    "    \n",
    "    # ***************************************************\n",
    "\n",
    "test(naive)"
   ]
  },
  {
   "cell_type": "markdown",
   "metadata": {},
   "source": [
    "### Use matching indices\n",
    "\n",
    "Instead of iterating through indices, one can use them directly to parallelize the operations with Numpy."
   ]
  },
  {
   "cell_type": "code",
   "execution_count": 22,
   "metadata": {
    "execution": {
     "iopub.execute_input": "2022-10-20T20:24:04.964250Z",
     "iopub.status.busy": "2022-10-20T20:24:04.964043Z",
     "iopub.status.idle": "2022-10-20T20:24:04.982806Z",
     "shell.execute_reply": "2022-10-20T20:24:04.982133Z"
    },
    "ExecuteTime": {
     "end_time": "2023-09-25T10:42:02.480623349Z",
     "start_time": "2023-09-25T10:42:02.468925150Z"
    }
   },
   "outputs": [
    {
     "name": "stdout",
     "output_type": "stream",
     "text": [
      "[[0 0 0 0 0]\n",
      " [1 1 1 1 1]\n",
      " [2 2 2 2 2]\n",
      " [3 3 3 3 3]]\n",
      "\n",
      "[[0 1 2 3 4]\n",
      " [0 1 2 3 4]\n",
      " [0 1 2 3 4]\n",
      " [0 1 2 3 4]]\n"
     ]
    }
   ],
   "source": [
    "rows, cols = np.indices((P.shape[0], Q.shape[0]))\n",
    "print(rows, end=\"\\n\\n\")\n",
    "print(cols)"
   ]
  },
  {
   "cell_type": "code",
   "execution_count": 23,
   "metadata": {
    "execution": {
     "iopub.execute_input": "2022-10-20T20:24:04.985717Z",
     "iopub.status.busy": "2022-10-20T20:24:04.985523Z",
     "iopub.status.idle": "2022-10-20T20:24:05.004498Z",
     "shell.execute_reply": "2022-10-20T20:24:05.003862Z"
    },
    "ExecuteTime": {
     "end_time": "2023-09-25T10:42:04.010434117Z",
     "start_time": "2023-09-25T10:42:03.998284541Z"
    }
   },
   "outputs": [
    {
     "name": "stdout",
     "output_type": "stream",
     "text": [
      "[[0.77132064 0.02075195]\n",
      " [0.77132064 0.02075195]\n",
      " [0.77132064 0.02075195]\n",
      " [0.77132064 0.02075195]\n",
      " [0.77132064 0.02075195]\n",
      " [0.63364823 0.74880388]\n",
      " [0.63364823 0.74880388]\n",
      " [0.63364823 0.74880388]\n",
      " [0.63364823 0.74880388]\n",
      " [0.63364823 0.74880388]\n",
      " [0.49850701 0.22479665]\n",
      " [0.49850701 0.22479665]\n",
      " [0.49850701 0.22479665]\n",
      " [0.49850701 0.22479665]\n",
      " [0.49850701 0.22479665]\n",
      " [0.19806286 0.76053071]\n",
      " [0.19806286 0.76053071]\n",
      " [0.19806286 0.76053071]\n",
      " [0.19806286 0.76053071]\n",
      " [0.19806286 0.76053071]]\n",
      "\n",
      "[[0.16911084 0.08833981]\n",
      " [0.68535982 0.95339335]\n",
      " [0.00394827 0.51219226]\n",
      " [0.81262096 0.61252607]\n",
      " [0.72175532 0.29187607]\n",
      " [0.16911084 0.08833981]\n",
      " [0.68535982 0.95339335]\n",
      " [0.00394827 0.51219226]\n",
      " [0.81262096 0.61252607]\n",
      " [0.72175532 0.29187607]\n",
      " [0.16911084 0.08833981]\n",
      " [0.68535982 0.95339335]\n",
      " [0.00394827 0.51219226]\n",
      " [0.81262096 0.61252607]\n",
      " [0.72175532 0.29187607]\n",
      " [0.16911084 0.08833981]\n",
      " [0.68535982 0.95339335]\n",
      " [0.00394827 0.51219226]\n",
      " [0.81262096 0.61252607]\n",
      " [0.72175532 0.29187607]]\n"
     ]
    }
   ],
   "source": [
    "print(P[rows.ravel()], end=\"\\n\\n\")\n",
    "print(Q[cols.ravel()])"
   ]
  },
  {
   "cell_type": "code",
   "execution_count": 80,
   "metadata": {
    "execution": {
     "iopub.execute_input": "2022-10-20T20:24:05.007153Z",
     "iopub.status.busy": "2022-10-20T20:24:05.006990Z",
     "iopub.status.idle": "2022-10-20T20:24:05.025444Z",
     "shell.execute_reply": "2022-10-20T20:24:05.024566Z"
    },
    "ExecuteTime": {
     "end_time": "2023-09-25T11:11:45.999407899Z",
     "start_time": "2023-09-25T11:11:45.955409401Z"
    }
   },
   "outputs": [
    {
     "name": "stdout",
     "output_type": "stream",
     "text": [
      "✅ Your `with_indices` passed 1 tests.\n"
     ]
    }
   ],
   "source": [
    "def with_indices(P, Q):\n",
    "    \"\"\"\n",
    "    An optimized solution using matching indices\n",
    "    \n",
    "    Args:\n",
    "        P: numpy array of shape=(p, 2)\n",
    "        Q: numpy array of shape=(q, 2)\n",
    "    Returns:\n",
    "        D: numpy array of shape=(p*q,)\n",
    "        \n",
    "    >>> with_indices(np.array([[0, 1]]), np.array([[2, 3], [4, 5]]))\n",
    "    array([[2.82842712, 5.65685425]])\n",
    "    \"\"\"\n",
    "    # ***************************************************\n",
    "    # INSERT YOUR CODE HERE\n",
    "    rows, cols = np.indices((P.shape[0], Q.shape[0]))\n",
    "    P_row = P[rows.ravel()]\n",
    "    Q_col = Q[cols.ravel()]\n",
    "    return np.sqrt(np.sum((Q_col - P_row)**2, axis=1))[np.newaxis,:]\n",
    "    # ***************************************************\n",
    "\n",
    "test(with_indices)"
   ]
  },
  {
   "cell_type": "markdown",
   "metadata": {},
   "source": [
    "### Use a library\n",
    "\n",
    "`scipy` is the equivalent of matlab toolboxes and have a lot to offer. Actually the pairwise computation is part of the library through the `spatial` module."
   ]
  },
  {
   "cell_type": "code",
   "execution_count": 71,
   "metadata": {
    "execution": {
     "iopub.execute_input": "2022-10-20T20:24:05.049252Z",
     "iopub.status.busy": "2022-10-20T20:24:05.049036Z",
     "iopub.status.idle": "2022-10-20T20:24:05.163073Z",
     "shell.execute_reply": "2022-10-20T20:24:05.162042Z"
    },
    "ExecuteTime": {
     "end_time": "2023-09-25T11:06:23.719305200Z",
     "start_time": "2023-09-25T11:06:23.673024638Z"
    }
   },
   "outputs": [],
   "source": [
    "from scipy.spatial.distance import cdist\n",
    "\n",
    "\n",
    "def scipy_version(P, Q):\n",
    "    return cdist(P, Q)"
   ]
  },
  {
   "cell_type": "markdown",
   "metadata": {},
   "source": [
    "### Numpy Magic"
   ]
  },
  {
   "cell_type": "code",
   "execution_count": 70,
   "outputs": [
    {
     "name": "stdout",
     "output_type": "stream",
     "text": [
      "[[[3.62656651e-01 4.56811947e-03]\n",
      "  [7.38926342e-03 8.69819975e-01]\n",
      "  [5.88860365e-01 2.41513582e-01]\n",
      "  [1.70571630e-03 3.50196606e-01]\n",
      "  [2.45672153e-03 7.35082878e-02]]\n",
      "\n",
      " [[2.15794994e-01 4.36212786e-01]\n",
      "  [2.67408786e-03 4.18568486e-02]\n",
      "  [3.96522050e-01 5.59850583e-02]\n",
      "  [3.20312369e-02 1.85716431e-02]\n",
      "  [7.76285799e-03 2.08783028e-01]]\n",
      "\n",
      " [[1.08501841e-01 1.86204668e-02]\n",
      "  [3.49139711e-02 5.30853152e-01]\n",
      "  [2.44588353e-01 8.25962412e-02]\n",
      "  [9.86675732e-02 1.50334104e-01]\n",
      "  [4.98398057e-02 4.49964894e-03]]\n",
      "\n",
      " [[8.38219937e-04 4.51840603e-01]\n",
      "  [2.37458321e-01 3.71959956e-02]\n",
      "  [3.76804773e-02 6.16719852e-02]\n",
      "  [3.77681654e-01 2.19053751e-02]\n",
      "  [2.74253785e-01 2.19637175e-01]]]\n",
      "[[0.60599073 0.93659449 0.91124856 0.59321356 0.27561751]\n",
      " [0.80746999 0.21102354 0.67268649 0.22495084 0.46534491]\n",
      " [0.35654215 0.75217493 0.57200052 0.49900068 0.23310825]\n",
      " [0.67281411 0.52407472 0.31520226 0.63212897 0.70277376]]\n"
     ]
    }
   ],
   "source": [
    "print((P[:, np.newaxis] - Q[np.newaxis, :]) ** 2)\n",
    "x= np.sqrt(np.sum((P[:, np.newaxis] - Q[np.newaxis, :]) ** 2, axis=2))\n",
    "print(x)"
   ],
   "metadata": {
    "collapsed": false,
    "ExecuteTime": {
     "end_time": "2023-09-25T11:05:58.785010449Z",
     "start_time": "2023-09-25T11:05:58.770103522Z"
    }
   }
  },
  {
   "cell_type": "code",
   "execution_count": 86,
   "metadata": {
    "execution": {
     "iopub.execute_input": "2022-10-20T20:24:05.166142Z",
     "iopub.status.busy": "2022-10-20T20:24:05.165972Z",
     "iopub.status.idle": "2022-10-20T20:24:05.186045Z",
     "shell.execute_reply": "2022-10-20T20:24:05.185266Z"
    },
    "ExecuteTime": {
     "end_time": "2023-09-25T11:21:33.448063310Z",
     "start_time": "2023-09-25T11:21:33.418661754Z"
    }
   },
   "outputs": [],
   "source": [
    "def tensor_broadcasting(P, Q):\n",
    "    return np.sqrt(np.sum((P[:, np.newaxis, :] - Q[np.newaxis, :, :]) ** 2, axis=2))\n"
   ]
  },
  {
   "cell_type": "markdown",
   "metadata": {},
   "source": [
    "# Compare methods"
   ]
  },
  {
   "cell_type": "code",
   "execution_count": 87,
   "metadata": {
    "execution": {
     "iopub.execute_input": "2022-10-20T20:24:05.189406Z",
     "iopub.status.busy": "2022-10-20T20:24:05.189070Z",
     "iopub.status.idle": "2022-10-20T20:24:23.553170Z",
     "shell.execute_reply": "2022-10-20T20:24:23.552472Z"
    },
    "ExecuteTime": {
     "end_time": "2023-09-25T11:22:02.847890812Z",
     "start_time": "2023-09-25T11:21:40.180355193Z"
    }
   },
   "outputs": [
    {
     "name": "stdout",
     "output_type": "stream",
     "text": [
      "46 ms ± 257 µs per loop (mean ± std. dev. of 7 runs, 10 loops each)\n",
      "5.15 ms ± 8.69 µs per loop (mean ± std. dev. of 7 runs, 100 loops each)\n",
      "292 µs ± 1.63 µs per loop (mean ± std. dev. of 7 runs, 1,000 loops each)\n",
      "1.51 ms ± 8.07 µs per loop (mean ± std. dev. of 7 runs, 1,000 loops each)\n"
     ]
    }
   ],
   "source": [
    "methods = [\n",
    "    naive,\n",
    "    #naive_2,\n",
    "    with_indices,\n",
    "    #with_indices_2,\n",
    "    scipy_version,\n",
    "    tensor_broadcasting,\n",
    "]\n",
    "timers = []\n",
    "for f in methods:\n",
    "    r = %timeit -o f(P_big, Q_big)\n",
    "    timers.append(r)"
   ]
  },
  {
   "cell_type": "code",
   "execution_count": 88,
   "metadata": {
    "execution": {
     "iopub.execute_input": "2022-10-20T20:24:23.556268Z",
     "iopub.status.busy": "2022-10-20T20:24:23.556065Z",
     "iopub.status.idle": "2022-10-20T20:24:23.666345Z",
     "shell.execute_reply": "2022-10-20T20:24:23.665736Z"
    },
    "ExecuteTime": {
     "end_time": "2023-09-25T11:22:07.804855198Z",
     "start_time": "2023-09-25T11:22:07.672774223Z"
    }
   },
   "outputs": [
    {
     "data": {
      "text/plain": "<Figure size 1000x600 with 1 Axes>",
      "image/png": "[encoded data removed]"
     },
     "metadata": {},
     "output_type": "display_data"
    }
   ],
   "source": [
    "plt.figure(figsize=(10, 6))\n",
    "plt.bar(\n",
    "    np.arange(len(methods)), [r.best * 1000 for r in timers], log=False\n",
    ")  # Set log to True for logarithmic scale\n",
    "plt.xticks(np.arange(len(methods)) + 0.2, [f.__name__ for f in methods], rotation=30)\n",
    "plt.xlabel(\"Method\")\n",
    "plt.ylabel(\"Time (ms)\")\n",
    "plt.show()"
   ]
  },
  {
   "cell_type": "code",
   "execution_count": null,
   "metadata": {},
   "outputs": [],
   "source": []
  }
 ],
 "metadata": {
  "kernelspec": {
   "display_name": "Python 3",
   "language": "python",
   "name": "python3"
  },
  "language_info": {
   "codemirror_mode": {
    "name": "ipython",
    "version": 3
   },
   "file_extension": ".py",
   "mimetype": "text/x-python",
   "name": "python",
   "nbconvert_exporter": "python",
   "pygments_lexer": "ipython3",
   "version": "3.7.4"
  }
 },
 "nbformat": 4,
 "nbformat_minor": 1
}
